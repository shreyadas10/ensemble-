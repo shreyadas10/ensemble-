{
  "nbformat": 4,
  "nbformat_minor": 0,
  "metadata": {
    "colab": {
      "provenance": []
    },
    "kernelspec": {
      "name": "python3",
      "display_name": "Python 3"
    },
    "language_info": {
      "name": "python"
    }
  },
  "cells": [
    {
      "cell_type": "markdown",
      "source": [
        "1. Can we use Bagging for regression problems ?\n",
        "\n",
        "->Yes, bagging can be used for regression problems. Bagging, or Bootstrap Aggregating, is a technique that can be applied to both classification and regression tasks.\n",
        "\n",
        "-> How Bagging Works for Regression:\n",
        "\n",
        "- Bootstrap sampling: Create multiple bootstrap samples from the training data.\n",
        "- Model training: Train a regression model on each bootstrap sample.\n",
        "- Prediction: Combine the predictions from each model, typically using averaging.\n"
      ],
      "metadata": {
        "id": "loUdmilQb61y"
      }
    },
    {
      "cell_type": "markdown",
      "source": [
        "2. What is the difference between multiple model training and single model training ?\n",
        "\n",
        "->  the difference between multiple model training and single model training are:-\n",
        "\n",
        "-> Single Model Training:\n",
        "\n",
        "- One model trained on the entire dataset\n",
        "- Homogeneous predictions based on a single set of learned patterns\n",
        "\n",
        "-> Multiple Model Training (Ensemble Methods):\n",
        "\n",
        "- Multiple models trained on the dataset, either sequentially or in parallel\n",
        "- Diverse predictions from each model, combined to improve overall performance\n",
        "\n",
        "-> Key differences:\n",
        "\n",
        "- Robustness: Multiple model training can be more robust to overfitting and outliers\n",
        "- Accuracy: Ensemble methods can often achieve higher accuracy than single model training\n",
        "- Complexity: Multiple model training can be more computationally expensive and require more hyperparameter tuning\n"
      ],
      "metadata": {
        "id": "u7tRrjNvYuCz"
      }
    },
    {
      "cell_type": "markdown",
      "source": [
        "3. Explain the concept of feature randomness in Random Forest ?\n",
        "-> Feature randomness, also known as feature bagging, is a key component of Random Forest.\n",
        "- At each node of a decision tree in the forest, a random subset of features is selected to consider for splitting.\n",
        "- This randomness helps reduce the correlation between trees and improves the overall performance of the model."
      ],
      "metadata": {
        "id": "-vndwCAQYt70"
      }
    },
    {
      "cell_type": "markdown",
      "source": [
        "4. What is OOB (Out-of-Bag) Score ?\n",
        "\n",
        "->  The Out-of-Bag (OOB) score is a metric used to evaluate the performance of Random Forest and other bagging models without requiring a separate validation set. It essentially measures the model's accuracy on data points that were not included in the bootstrap sample used to train a particular tree"
      ],
      "metadata": {
        "id": "RJ6huty2Yt1T"
      }
    },
    {
      "cell_type": "markdown",
      "source": [
        "5. How can you measure the importance of features in a Random Forest model ?\n",
        "\n",
        "-> In Random Forest models, feature importance can be measured using the Gini importance, also known as the Gini impurity, which quantifies how much a feature reduces the impurity (or uncertainty) in the decision tree's nodes. A higher Gini importance score indicates a more important feature."
      ],
      "metadata": {
        "id": "lsQcsdIIYtud"
      }
    },
    {
      "cell_type": "markdown",
      "source": [
        "6.Explain the working principle of a Bagging Classifier\n",
        "\n",
        "-> A Bagging classifier. A Bagging classifier is an ensemble meta-estimator that fits base classifiers each on random subsets of the original dataset and then aggregate their individual predictions (either by voting or by averaging) to form a final prediction."
      ],
      "metadata": {
        "id": "gIxEID_vYtn9"
      }
    },
    {
      "cell_type": "markdown",
      "source": [
        "7. How do you evaluate a Bagging Classifier’s performance ?\n",
        "\n",
        "-> To evaluate a Bagging Classifier's performance, we use standard classification metrics like accuracy, precision, recall, F1-score, and AUC-ROC. These metrics help assess how well the model predicts different classes, especially in imbalanced datasets."
      ],
      "metadata": {
        "id": "Pddf94Ksz-8W"
      }
    },
    {
      "cell_type": "markdown",
      "source": [
        "8. How does a Bagging Regressor work ?\n",
        "\n",
        "-> Bagging Regressor creates an ensemble of multiple base regression models and combines their predictions to produce a final prediction. In Bagging Regressor, the base model is typically a regression algorithm, such as Decision Tree Regressor."
      ],
      "metadata": {
        "id": "lLuI80mDz-n-"
      }
    },
    {
      "cell_type": "markdown",
      "source": [
        "9. What is the main advantage of ensemble techniques ?\n",
        "\n",
        "-> The primary advantage of ensemble techniques in machine learning is that they improve predictive accuracy and generalization by combining the strengths of multiple models. This approach often leads to better performance than relying on a single model, especially when models are diverse."
      ],
      "metadata": {
        "id": "yeDVkaV9z-T3"
      }
    },
    {
      "cell_type": "markdown",
      "source": [
        "10. What is the main challenge of ensemble methods ?\n",
        "\n",
        "-> The main challenge of ensemble methods is obtaining base models that make diverse errors, rather than focusing solely on high individual accuracy. This diversity is crucial for the ensemble to effectively reduce overall prediction errors. Additionally, ensemble methods can be computationally expensive due to the need to train and combine multiple models."
      ],
      "metadata": {
        "id": "b02bD2fYz-FZ"
      }
    },
    {
      "cell_type": "markdown",
      "source": [
        "11.  Explain the key idea behind ensemble techniques\n",
        "\n",
        "-> Ensemble learning is a machine learning technique that aggregates two or more learners (e.g. regression models, neural networks) in order to produce better predictions."
      ],
      "metadata": {
        "id": "MulxhiQV0uZ7"
      }
    },
    {
      "cell_type": "markdown",
      "source": [
        "12. What is a Random Forest Classifier ?\n",
        "\n",
        "-> A Random Forest classifier is a machine learning algorithm that uses an ensemble of decision trees to classify data. It's a powerful and versatile method that can be used for both classification and regression tasks. The algorithm works by creating multiple decision trees on different subsets of the data and features, then aggregating their predictions to make a final classification."
      ],
      "metadata": {
        "id": "DG3mUqEw0uJo"
      }
    },
    {
      "cell_type": "markdown",
      "source": [
        "13.  What are the main types of ensemble techniques ?\n",
        "\n",
        "-> he main types of ensemble methods are bagging, boosting, and stacking. Bagging involves training multiple models on different subsets of the data, while boosting trains models sequentially, with each model focusing on correcting the errors of its predecessors. Stacking combines predictions from different models using a meta-learner."
      ],
      "metadata": {
        "id": "NSNDl2yO0uC3"
      }
    },
    {
      "cell_type": "markdown",
      "source": [
        "14. What is ensemble learning in machine learning ?\n",
        "\n",
        "-> Ensemble learning in machine learning combines multiple models to improve prediction accuracy, reduce bias, and minimize overfitting. Instead of relying on a single model, ensemble methods train several different models and then combine their predictions. This approach leverages the collective strengths of various models to enhance overall performance."
      ],
      "metadata": {
        "id": "AjKf59100t8T"
      }
    },
    {
      "cell_type": "markdown",
      "source": [
        "15. When should we avoid using ensemble methods\n",
        "\n",
        "-> Ensemble methods should be avoided when:\n",
        "\n",
        "- Interpretability is crucial:\n",
        "\n",
        "Ensemble models, especially those involving multiple models, can be harder to understand and explain than single models.\n",
        "- Computational resources are limited:\n",
        "\n",
        " Training and combining multiple models can be computationally expensive and time-consuming.\n",
        "- Overfitting is a major concern:\n",
        "\n",
        " If the base models are too complex or the aggregation method is not carefully chosen, ensemble methods can overfit to the training data.\n",
        "- Models are highly correlated:\n",
        "\n",
        "  If the base models are too similar, the ensemble may not provide significant performance improvements.\n",
        "- A simpler model is sufficient:\n",
        "\n",
        " If a single, well-tuned model can achieve the desired performance, there's no need for the added complexity of an ensemble.\n"
      ],
      "metadata": {
        "id": "ciREptlD0t1F"
      }
    },
    {
      "cell_type": "markdown",
      "source": [
        "16. How does Bagging help in reducing overfitting ?\n",
        "\n",
        "-> Bagging reduces overfitting by training multiple models on different subsets of the data (with replacement) and then aggregating their predictions. This diversity in models, coupled with the averaging or majority voting of predictions, helps to stabilize the overall model and reduce its variance, preventing it from fitting too closely to the training data."
      ],
      "metadata": {
        "id": "lgwQF9MA0tuG"
      }
    },
    {
      "cell_type": "markdown",
      "source": [
        "17. Why is Random Forest better than a single Decision Tree ?\n",
        "\n",
        "-> Random Forest, an ensemble of multiple decision trees, generally outperforms a single decision tree due to several key advantages, including reduced overfitting, increased accuracy, and the ability to provide feature importance. Random Forest mitigates overfitting by averaging predictions from multiple, independent trees, while a single tree can easily overfit the training data."
      ],
      "metadata": {
        "id": "Wmme9pwN0tgU"
      }
    },
    {
      "cell_type": "markdown",
      "source": [
        "18. What is the role of bootstrap sampling in Bagging ?\n",
        "\n",
        "-> In Bagging (Bootstrap Aggregating), bootstrap sampling creates diverse subsets of the original dataset by sampling with replacement. This allows for multiple models to be trained on slightly different versions of the data, enhancing model diversity and performance. These models are then aggregated to produce a final prediction."
      ],
      "metadata": {
        "id": "H_RDJyHi0tUE"
      }
    },
    {
      "cell_type": "markdown",
      "source": [
        "19. What are some real-world applications of ensemble techniques ?\n",
        "\n",
        "-> Ensemble techniques, which combine predictions from multiple machine learning models, find use in various real-world applications, including remote sensing, computer security, fraud detection, and financial decision-making. They are particularly valuable for tasks requiring high accuracy, such as medical diagnosis, weather forecasting, and autonomous vehicles."
      ],
      "metadata": {
        "id": "OCaNj6P80tFX"
      }
    },
    {
      "cell_type": "markdown",
      "source": [
        "20. What is the difference between Bagging and Boosting?\n",
        "\n",
        "-> Bagging and boosting are ensemble learning methods used to improve the accuracy and reliability of machine learning models. Bagging, or Bootstrap Aggregating, trains multiple models independently on different subsets of the data, aiming to reduce variance and prevent overfitting. Boosting, on the other hand, trains models sequentially, with each model focusing on the errors of the previous one, aiming to reduce bias and improve overall accuracy."
      ],
      "metadata": {
        "id": "gNdvdcOZ0sxU"
      }
    },
    {
      "cell_type": "markdown",
      "source": [
        "PRACTICAL"
      ],
      "metadata": {
        "id": "MC1v80ml_e2N"
      }
    },
    {
      "cell_type": "markdown",
      "source": [
        "21.  Train a Bagging Classifier using Decision Trees on a sample dataset and print model accuracy"
      ],
      "metadata": {
        "id": "s5BHoSat_hZt"
      }
    },
    {
      "cell_type": "code",
      "execution_count": 15,
      "metadata": {
        "id": "Wb0i72tWbkKL",
        "colab": {
          "base_uri": "https://localhost:8080/"
        },
        "outputId": "152e88de-eaee-4452-fa33-fa9a6a85b621"
      },
      "outputs": [
        {
          "output_type": "stream",
          "name": "stdout",
          "text": [
            "Model Accuracy: 1.0\n"
          ]
        }
      ],
      "source": [
        "from sklearn.datasets import load_iris\n",
        "from sklearn.model_selection import train_test_split\n",
        "from sklearn.ensemble import BaggingClassifier\n",
        "from sklearn.tree import DecisionTreeClassifier\n",
        "from sklearn.metrics import accuracy_score\n",
        "\n",
        "data = load_iris()\n",
        "X = data.data\n",
        "y = data.target\n",
        "\n",
        "X_train, X_test, y_train, y_test = train_test_split(X, y, test_size=0.2, random_state=42)\n",
        "\n",
        "bagging_model = BaggingClassifier(\n",
        "    estimator=DecisionTreeClassifier(),\n",
        "    n_estimators=50,\n",
        "    random_state=42\n",
        ")\n",
        "\n",
        "bagging_model.fit(X_train, y_train)\n",
        "\n",
        "y_pred = bagging_model.predict(X_test)\n",
        "\n",
        "accuracy = accuracy_score(y_test, y_pred)\n",
        "print(\"Model Accuracy:\", accuracy)\n"
      ]
    },
    {
      "cell_type": "markdown",
      "source": [
        "22. Train a Bagging Regressor using Decision Trees and evaluate using Mean Squared Error (MSE)"
      ],
      "metadata": {
        "id": "jc4rzXll__ak"
      }
    },
    {
      "cell_type": "code",
      "source": [
        "from sklearn.datasets import make_regression\n",
        "from sklearn.ensemble import BaggingRegressor\n",
        "from sklearn.tree import DecisionTreeRegressor\n",
        "from sklearn.metrics import mean_squared_error\n",
        "\n",
        "X, y = make_regression(n_samples=1000, n_features=10, noise=10, random_state=42)\n",
        "\n",
        "X_train, X_test, y_train, y_test = train_test_split(X, y, test_size=0.2, random_state=42)\n",
        "\n",
        "bagging_regressor = BaggingRegressor(\n",
        "    estimator=DecisionTreeRegressor(),\n",
        "    n_estimators=50,\n",
        "    random_state=42\n",
        ")\n",
        "\n",
        "bagging_regressor.fit(X_train, y_train)\n",
        "\n",
        "y_pred = bagging_regressor.predict(X_test)\n",
        "\n",
        "mse = mean_squared_error(y_test, y_pred)\n",
        "print(\"Mean Squared Error (MSE):\", mse)\n"
      ],
      "metadata": {
        "colab": {
          "base_uri": "https://localhost:8080/"
        },
        "id": "AB3MArsaACY6",
        "outputId": "7ac4f703-68bb-42b4-c89a-85f7fc6b5bf9"
      },
      "execution_count": 16,
      "outputs": [
        {
          "output_type": "stream",
          "name": "stdout",
          "text": [
            "Mean Squared Error (MSE): 2785.3423005011828\n"
          ]
        }
      ]
    },
    {
      "cell_type": "markdown",
      "source": [
        "23. Train a Random Forest Classifier on the Breast Cancer dataset and print feature importance scores"
      ],
      "metadata": {
        "id": "f_ApT3RSB0MA"
      }
    },
    {
      "cell_type": "code",
      "source": [
        "from sklearn.datasets import load_breast_cancer\n",
        "from sklearn.ensemble import RandomForestClassifier\n",
        "\n",
        "data = load_breast_cancer()\n",
        "X = data.data\n",
        "y = data.target\n",
        "feature_names = data.feature_names\n",
        "\n",
        "X_train, X_test, y_train, y_test = train_test_split(X, y, test_size=0.2, random_state=42)\n",
        "\n",
        "rf_model = RandomForestClassifier(n_estimators=100, random_state=42)\n",
        "rf_model.fit(X_train, y_train)\n",
        "\n",
        "y_pred = rf_model.predict(X_test)\n",
        "accuracy = accuracy_score(y_test, y_pred)\n",
        "print(\"Model Accuracy:\", accuracy)\n",
        "\n",
        "importances = rf_model.feature_importances_\n",
        "for name, score in zip(feature_names, importances):\n",
        "    print(f\"{name}: {score:.4f}\")\n"
      ],
      "metadata": {
        "colab": {
          "base_uri": "https://localhost:8080/"
        },
        "id": "hj2uJhhtB4ie",
        "outputId": "88419975-5d29-4e75-dbe8-5f3a9dd65fd0"
      },
      "execution_count": 17,
      "outputs": [
        {
          "output_type": "stream",
          "name": "stdout",
          "text": [
            "Model Accuracy: 0.9649122807017544\n",
            "mean radius: 0.0487\n",
            "mean texture: 0.0136\n",
            "mean perimeter: 0.0533\n",
            "mean area: 0.0476\n",
            "mean smoothness: 0.0073\n",
            "mean compactness: 0.0139\n",
            "mean concavity: 0.0680\n",
            "mean concave points: 0.1062\n",
            "mean symmetry: 0.0038\n",
            "mean fractal dimension: 0.0039\n",
            "radius error: 0.0201\n",
            "texture error: 0.0047\n",
            "perimeter error: 0.0113\n",
            "area error: 0.0224\n",
            "smoothness error: 0.0043\n",
            "compactness error: 0.0053\n",
            "concavity error: 0.0094\n",
            "concave points error: 0.0035\n",
            "symmetry error: 0.0040\n",
            "fractal dimension error: 0.0053\n",
            "worst radius: 0.0780\n",
            "worst texture: 0.0217\n",
            "worst perimeter: 0.0671\n",
            "worst area: 0.1539\n",
            "worst smoothness: 0.0106\n",
            "worst compactness: 0.0203\n",
            "worst concavity: 0.0318\n",
            "worst concave points: 0.1447\n",
            "worst symmetry: 0.0101\n",
            "worst fractal dimension: 0.0052\n"
          ]
        }
      ]
    },
    {
      "cell_type": "markdown",
      "source": [
        "24. Train a Random Forest Regressor and compare its performance with a single Decision Tree"
      ],
      "metadata": {
        "id": "LtQ-ZGS1CVkO"
      }
    },
    {
      "cell_type": "code",
      "source": [
        "from sklearn.ensemble import RandomForestRegressor\n",
        "X, y = make_regression(n_samples=1000, n_features=10, noise=15, random_state=42)\n",
        "X_train, X_test, y_train, y_test = train_test_split(X, y, test_size=0.2, random_state=42)\n",
        "\n",
        "dt_model = DecisionTreeRegressor(random_state=42)\n",
        "dt_model.fit(X_train, y_train)\n",
        "dt_preds = dt_model.predict(X_test)\n",
        "dt_mse = mean_squared_error(y_test, dt_preds)\n",
        "\n",
        "rf_model = RandomForestRegressor(n_estimators=100, random_state=42)\n",
        "rf_model.fit(X_train, y_train)\n",
        "rf_preds = rf_model.predict(X_test)\n",
        "rf_mse = mean_squared_error(y_test, rf_preds)\n",
        "\n",
        "print(\"Decision Tree MSE:\", dt_mse)\n",
        "print(\"Random Forest MSE:\", rf_mse)\n"
      ],
      "metadata": {
        "colab": {
          "base_uri": "https://localhost:8080/"
        },
        "id": "Wg8KFLa3CYuk",
        "outputId": "7140dfc6-064c-4ffb-817d-cd82d78757e2"
      },
      "execution_count": 18,
      "outputs": [
        {
          "output_type": "stream",
          "name": "stdout",
          "text": [
            "Decision Tree MSE: 6865.653215548061\n",
            "Random Forest MSE: 2837.305654481787\n"
          ]
        }
      ]
    },
    {
      "cell_type": "markdown",
      "source": [
        "25. Compute the Out-of-Bag (OOB) Score for a Random Forest Classifier"
      ],
      "metadata": {
        "id": "ysTEgTzHCnsv"
      }
    },
    {
      "cell_type": "code",
      "source": [
        "data = load_iris()\n",
        "X = data.data\n",
        "y = data.target\n",
        "\n",
        "X_train, X_test, y_train, y_test = train_test_split(X, y, test_size=0.2, random_state=42)\n",
        "\n",
        "rf_model = RandomForestClassifier(n_estimators=100, oob_score=True, bootstrap=True, random_state=42)\n",
        "rf_model.fit(X_train, y_train)\n",
        "\n",
        "print(\"OOB Score:\", rf_model.oob_score_)"
      ],
      "metadata": {
        "colab": {
          "base_uri": "https://localhost:8080/"
        },
        "id": "BPbuMChhEfaM",
        "outputId": "2ecce5af-b3c8-441f-e5ad-44da55d3967a"
      },
      "execution_count": 19,
      "outputs": [
        {
          "output_type": "stream",
          "name": "stdout",
          "text": [
            "OOB Score: 0.9166666666666666\n"
          ]
        }
      ]
    },
    {
      "cell_type": "markdown",
      "source": [
        "26. Train a Bagging Classifier using SVM as a base estimator and print accuracy"
      ],
      "metadata": {
        "id": "ZUIYbpojEqKl"
      }
    },
    {
      "cell_type": "code",
      "source": [
        "from sklearn.svm import SVC\n",
        "\n",
        "\n",
        "data = load_iris()\n",
        "X = data.data\n",
        "y = data.target\n",
        "\n",
        "X_train, X_test, y_train, y_test = train_test_split(X, y, test_size=0.2, random_state=42)\n",
        "\n",
        "bagging_model = BaggingClassifier(\n",
        "    estimator=SVC(),\n",
        "    n_estimators=50,\n",
        "    random_state=42\n",
        ")\n",
        "bagging_model.fit(X_train, y_train)\n",
        "y_pred = bagging_model.predict(X_test)\n",
        "\n",
        "accuracy = accuracy_score(y_test, y_pred)\n",
        "print(\"Model Accuracy:\", accuracy)"
      ],
      "metadata": {
        "colab": {
          "base_uri": "https://localhost:8080/"
        },
        "id": "wBlLkJq2Essp",
        "outputId": "d66bccd7-f605-423a-dcf8-a6f8d4252d1a"
      },
      "execution_count": 20,
      "outputs": [
        {
          "output_type": "stream",
          "name": "stdout",
          "text": [
            "Model Accuracy: 1.0\n"
          ]
        }
      ]
    },
    {
      "cell_type": "markdown",
      "source": [
        "27. Train a Random Forest Classifier with different numbers of trees and compare accuracy"
      ],
      "metadata": {
        "id": "See_a0PVE3RG"
      }
    },
    {
      "cell_type": "code",
      "source": [
        "data = load_iris()\n",
        "X = data.data\n",
        "y = data.target\n",
        "\n",
        "X_train, X_test, y_train, y_test = train_test_split(X, y, test_size=0.2, random_state=42)\n",
        "\n",
        "for n in [1, 5, 10, 50, 100, 200]:\n",
        "    model = RandomForestClassifier(n_estimators=n, random_state=42)\n",
        "    model.fit(X_train, y_train)\n",
        "    y_pred = model.predict(X_test)\n",
        "    accuracy = accuracy_score(y_test, y_pred)\n",
        "    print(f\"n_estimators = {n} -> Accuracy: {accuracy:.4f}\")"
      ],
      "metadata": {
        "colab": {
          "base_uri": "https://localhost:8080/"
        },
        "id": "i22gGZfSE5x5",
        "outputId": "0ba16f75-2a82-41ba-88e8-546e3b392a19"
      },
      "execution_count": 21,
      "outputs": [
        {
          "output_type": "stream",
          "name": "stdout",
          "text": [
            "n_estimators = 1 -> Accuracy: 1.0000\n",
            "n_estimators = 5 -> Accuracy: 0.9667\n",
            "n_estimators = 10 -> Accuracy: 1.0000\n",
            "n_estimators = 50 -> Accuracy: 1.0000\n",
            "n_estimators = 100 -> Accuracy: 1.0000\n",
            "n_estimators = 200 -> Accuracy: 1.0000\n"
          ]
        }
      ]
    },
    {
      "cell_type": "markdown",
      "source": [
        "28. Train a Bagging Classifier using Logistic Regression as a base estimator and print AUC score"
      ],
      "metadata": {
        "id": "SLUj3fqwFAll"
      }
    },
    {
      "cell_type": "code",
      "source": [
        "from sklearn.preprocessing import StandardScaler\n",
        "from sklearn.datasets import load_breast_cancer\n",
        "from sklearn.linear_model import LogisticRegression\n",
        "from sklearn.ensemble import BaggingClassifier\n",
        "from sklearn.metrics import roc_auc_score\n",
        "\n",
        "import warnings\n",
        "warnings.filterwarnings('ignore')\n",
        "\n",
        "data = load_breast_cancer()\n",
        "X = data.data\n",
        "y = data.target\n",
        "\n",
        "X_train, X_test, y_train, y_test = train_test_split(X, y, test_size=0.2, random_state=42)\n",
        "\n",
        "scaler = StandardScaler()\n",
        "X_train_scaled = scaler.fit_transform(X_train)\n",
        "X_test_scaled = scaler.transform(X_test)\n",
        "\n",
        "bagging_model = BaggingClassifier(\n",
        "    estimator=LogisticRegression(max_iter=5000, solver='lbfgs', multi_class='ovr'),\n",
        "    n_estimators=50,\n",
        "    random_state=42\n",
        ")\n",
        "bagging_model.fit(X_train_scaled, y_train)\n",
        "\n",
        "y_proba = bagging_model.predict_proba(X_test_scaled)[:, 1]\n",
        "auc = roc_auc_score(y_test, y_proba)\n",
        "\n",
        "print(\"AUC Score:\", auc)\n"
      ],
      "metadata": {
        "colab": {
          "base_uri": "https://localhost:8080/"
        },
        "id": "CC4RH7FGy7x7",
        "outputId": "8b9a1320-afd0-47cc-d31c-0bf07aaed0fc"
      },
      "execution_count": 25,
      "outputs": [
        {
          "output_type": "stream",
          "name": "stdout",
          "text": [
            "AUC Score: 0.99737962659679\n"
          ]
        }
      ]
    },
    {
      "cell_type": "markdown",
      "source": [
        "29. Train a Random Forest Regressor and analyze feature importance scores"
      ],
      "metadata": {
        "id": "PJM6EJFwGCW-"
      }
    },
    {
      "cell_type": "code",
      "source": [
        "import pandas as pd\n",
        "\n",
        "X, y = make_regression(n_samples=1000, n_features=10, noise=10, random_state=42)\n",
        "X_train, X_test, y_train, y_test = train_test_split(X, y, test_size=0.2, random_state=42)\n",
        "\n",
        "rf_model = RandomForestRegressor(n_estimators=100, random_state=42)\n",
        "rf_model.fit(X_train, y_train)\n",
        "\n",
        "importances = rf_model.feature_importances_\n",
        "feature_names = [f\"Feature {i}\" for i in range(X.shape[1])]\n",
        "\n",
        "importance_df = pd.DataFrame({\n",
        "    'Feature': feature_names,\n",
        "    'Importance': importances\n",
        "}).sort_values(by='Importance', ascending=False)\n",
        "\n",
        "print(importance_df)"
      ],
      "metadata": {
        "colab": {
          "base_uri": "https://localhost:8080/"
        },
        "id": "49SF8dYnmZbh",
        "outputId": "7ec12ac7-1503-4f06-bb32-7164d42b42e1"
      },
      "execution_count": 26,
      "outputs": [
        {
          "output_type": "stream",
          "name": "stdout",
          "text": [
            "     Feature  Importance\n",
            "3  Feature 3    0.329485\n",
            "6  Feature 6    0.287064\n",
            "9  Feature 9    0.211691\n",
            "2  Feature 2    0.041122\n",
            "0  Feature 0    0.038406\n",
            "1  Feature 1    0.035106\n",
            "7  Feature 7    0.015769\n",
            "5  Feature 5    0.014275\n",
            "4  Feature 4    0.013701\n",
            "8  Feature 8    0.013382\n"
          ]
        }
      ]
    },
    {
      "cell_type": "markdown",
      "source": [
        "30.  Train an ensemble model using both Bagging and Random Forest and compare accuracy."
      ],
      "metadata": {
        "id": "ocFYXWiM0fbE"
      }
    },
    {
      "cell_type": "code",
      "source": [
        "data = load_iris()\n",
        "X = data.data\n",
        "y = data.target\n",
        "\n",
        "X_train, X_test, y_train, y_test = train_test_split(X, y, test_size=0.2, random_state=42)\n",
        "\n",
        "bagging_model = BaggingClassifier(\n",
        "    estimator=DecisionTreeClassifier(),\n",
        "    n_estimators=50,\n",
        "    random_state=42\n",
        ")\n",
        "bagging_model.fit(X_train, y_train)\n",
        "y_pred_bagging = bagging_model.predict(X_test)\n",
        "acc_bagging = accuracy_score(y_test, y_pred_bagging)\n",
        "\n",
        "rf_model = RandomForestClassifier(n_estimators=50, random_state=42)\n",
        "rf_model.fit(X_train, y_train)\n",
        "y_pred_rf = rf_model.predict(X_test)\n",
        "acc_rf = accuracy_score(y_test, y_pred_rf)\n",
        "\n",
        "print(f\"Bagging Accuracy     : {acc_bagging:.4f}\")\n",
        "print(f\"Random Forest Accuracy: {acc_rf:.4f}\")"
      ],
      "metadata": {
        "colab": {
          "base_uri": "https://localhost:8080/"
        },
        "id": "yYem5Cv70itx",
        "outputId": "71113f92-b1c3-44c4-8fd2-31f81a1b4dcf"
      },
      "execution_count": 27,
      "outputs": [
        {
          "output_type": "stream",
          "name": "stdout",
          "text": [
            "Bagging Accuracy     : 1.0000\n",
            "Random Forest Accuracy: 1.0000\n"
          ]
        }
      ]
    },
    {
      "cell_type": "markdown",
      "source": [
        "31. Train a Random Forest Classifier and tune hyperparameters using GridSearchCV"
      ],
      "metadata": {
        "id": "Z6qgTjbu0uai"
      }
    },
    {
      "cell_type": "code",
      "source": [
        "from sklearn.model_selection import GridSearchCV\n",
        "\n",
        "data = load_iris()\n",
        "X = data.data\n",
        "y = data.target\n",
        "\n",
        "X_train, X_test, y_train, y_test = train_test_split(X, y, test_size=0.2, random_state=42)\n",
        "\n",
        "rf = RandomForestClassifier(random_state=42)\n",
        "\n",
        "param_grid = {\n",
        "    'n_estimators': [50, 100, 150],\n",
        "    'max_depth': [None, 5, 10],\n",
        "    'min_samples_split': [2, 5],\n",
        "    'min_samples_leaf': [1, 2],\n",
        "}\n",
        "\n",
        "grid_search = GridSearchCV(estimator=rf, param_grid=param_grid, cv=5, scoring='accuracy', n_jobs=-1)\n",
        "grid_search.fit(X_train, y_train)\n",
        "\n",
        "best_rf = grid_search.best_estimator_\n",
        "y_pred = best_rf.predict(X_test)\n",
        "accuracy = accuracy_score(y_test, y_pred)\n",
        "\n",
        "print(\"Best Parameters:\", grid_search.best_params_)\n",
        "print(\"Accuracy with Best Parameters:\", accuracy)\n"
      ],
      "metadata": {
        "colab": {
          "base_uri": "https://localhost:8080/"
        },
        "id": "LULo2-jX0zFr",
        "outputId": "870d0a75-4373-4b22-c2aa-42ffe637f503"
      },
      "execution_count": 29,
      "outputs": [
        {
          "output_type": "stream",
          "name": "stdout",
          "text": [
            "Best Parameters: {'max_depth': None, 'min_samples_leaf': 2, 'min_samples_split': 2, 'n_estimators': 150}\n",
            "Accuracy with Best Parameters: 1.0\n"
          ]
        }
      ]
    },
    {
      "cell_type": "markdown",
      "source": [
        "32. Train a Bagging Regressor with different numbers of base estimators and compare performance"
      ],
      "metadata": {
        "id": "Ti6K2HXt3k-E"
      }
    },
    {
      "cell_type": "code",
      "source": [
        "X, y = make_regression(n_samples=1000, n_features=10, noise=15, random_state=42)\n",
        "X_train, X_test, y_train, y_test = train_test_split(X, y, test_size=0.2, random_state=42)\n",
        "\n",
        "for n in [1, 5, 10, 50, 100]:\n",
        "    model = BaggingRegressor(\n",
        "        estimator=DecisionTreeRegressor(),\n",
        "        n_estimators=n,\n",
        "        random_state=42\n",
        "    )\n",
        "    model.fit(X_train, y_train)\n",
        "    y_pred = model.predict(X_test)\n",
        "    mse = mean_squared_error(y_test, y_pred)\n",
        "    print(f\"n_estimators = {n} -> MSE: {mse:.2f}\")"
      ],
      "metadata": {
        "colab": {
          "base_uri": "https://localhost:8080/"
        },
        "id": "oxUYcocd3sAP",
        "outputId": "c604f4ee-b2c9-4138-8187-449200d62bdd"
      },
      "execution_count": 30,
      "outputs": [
        {
          "output_type": "stream",
          "name": "stdout",
          "text": [
            "n_estimators = 1 -> MSE: 9324.74\n",
            "n_estimators = 5 -> MSE: 4425.38\n",
            "n_estimators = 10 -> MSE: 3525.63\n",
            "n_estimators = 50 -> MSE: 2947.32\n",
            "n_estimators = 100 -> MSE: 2858.07\n"
          ]
        }
      ]
    },
    {
      "cell_type": "markdown",
      "source": [
        "33. Train a Random Forest Classifier and analyze misclassified samples"
      ],
      "metadata": {
        "id": "gJZs4AFP34vy"
      }
    },
    {
      "cell_type": "code",
      "source": [
        "data = load_iris()\n",
        "X = data.data\n",
        "y = data.target\n",
        "\n",
        "X_train, X_test, y_train, y_test = train_test_split(X, y, test_size=0.2, random_state=42)\n",
        "\n",
        "model = RandomForestClassifier(n_estimators=100, random_state=42)\n",
        "model.fit(X_train, y_train)\n",
        "\n",
        "y_pred = model.predict(X_test)\n",
        "\n",
        "accuracy = accuracy_score(y_test, y_pred)\n",
        "print(\"Accuracy:\", accuracy)\n",
        "\n",
        "misclassified_indices = [i for i in range(len(y_test)) if y_test[i] != y_pred[i]]\n",
        "\n",
        "print(\"\\nMisclassified Samples:\")\n",
        "for i in misclassified_indices:\n",
        "    print(f\"Index {i}: True Label = {y_test[i]}, Predicted = {y_pred[i]}, Features = {X_test[i]}\")"
      ],
      "metadata": {
        "colab": {
          "base_uri": "https://localhost:8080/"
        },
        "id": "45s1eP2c38gE",
        "outputId": "6181704a-fcd6-4632-8728-cd6891da349e"
      },
      "execution_count": 31,
      "outputs": [
        {
          "output_type": "stream",
          "name": "stdout",
          "text": [
            "Accuracy: 1.0\n",
            "\n",
            "Misclassified Samples:\n"
          ]
        }
      ]
    },
    {
      "cell_type": "markdown",
      "source": [
        "34.  Train a Bagging Classifier and compare its performance with a single Decision Tree Classifier"
      ],
      "metadata": {
        "id": "Ww-fRTY74GZL"
      }
    },
    {
      "cell_type": "code",
      "source": [
        "dt_model = DecisionTreeClassifier(random_state=42)\n",
        "dt_model.fit(X_train, y_train)\n",
        "y_pred_dt = dt_model.predict(X_test)\n",
        "acc_dt = accuracy_score(y_test, y_pred_dt)\n",
        "\n",
        "bagging_model = BaggingClassifier(\n",
        "    estimator=DecisionTreeClassifier(),\n",
        "    n_estimators=50,\n",
        "    random_state=42\n",
        ")\n",
        "bagging_model.fit(X_train, y_train)\n",
        "y_pred_bag = bagging_model.predict(X_test)\n",
        "acc_bag = accuracy_score(y_test, y_pred_bag)\n",
        "\n",
        "print(f\"Decision Tree Accuracy : {acc_dt:.4f}\")\n",
        "print(f\"Bagging Accuracy       : {acc_bag:.4f}\")"
      ],
      "metadata": {
        "colab": {
          "base_uri": "https://localhost:8080/"
        },
        "id": "UBda1fvg4Jfd",
        "outputId": "91f44425-efc6-434c-ff23-bea60111e78e"
      },
      "execution_count": 33,
      "outputs": [
        {
          "output_type": "stream",
          "name": "stdout",
          "text": [
            "Decision Tree Accuracy : 1.0000\n",
            "Bagging Accuracy       : 1.0000\n"
          ]
        }
      ]
    },
    {
      "cell_type": "markdown",
      "source": [
        "35. Train a Random Forest Classifier and visualize the confusion matrix"
      ],
      "metadata": {
        "id": "TNmhAtOk5TH6"
      }
    },
    {
      "cell_type": "code",
      "source": [
        "from sklearn.metrics import confusion_matrix, ConfusionMatrixDisplay\n",
        "import matplotlib.pyplot as plt\n",
        "model = RandomForestClassifier(n_estimators=100, random_state=42)\n",
        "model.fit(X_train, y_train)\n",
        "\n",
        "y_pred = model.predict(X_test)\n",
        "\n",
        "cm = confusion_matrix(y_test, y_pred)\n",
        "disp = ConfusionMatrixDisplay(confusion_matrix=cm, display_labels=data.target_names)\n",
        "disp.plot(cmap=\"Blues\", values_format=\"d\")\n",
        "\n",
        "plt.title(\"Confusion Matrix - Random Forest\")\n",
        "plt.show()"
      ],
      "metadata": {
        "colab": {
          "base_uri": "https://localhost:8080/",
          "height": 472
        },
        "id": "zCB0iUv-5WBo",
        "outputId": "ac82b750-99e9-48ba-fdf3-5813d5f0056e"
      },
      "execution_count": 34,
      "outputs": [
        {
          "output_type": "display_data",
          "data": {
            "text/plain": [
              "<Figure size 640x480 with 2 Axes>"
            ],
            "image/png": "[encoded data removed]"
          },
          "metadata": {}
        }
      ]
    },
    {
      "cell_type": "markdown",
      "source": [
        "36. Train a Stacking Classifier using Decision Trees, SVM, and Logistic Regression, and compare accuracy"
      ],
      "metadata": {
        "id": "TfFEYp-M5f2o"
      }
    },
    {
      "cell_type": "code",
      "source": [
        "from sklearn.svm import SVC\n",
        "from sklearn.ensemble import StackingClassifier\n",
        "base_learners = [\n",
        "    ('decision_tree', DecisionTreeClassifier()),\n",
        "    ('svm', SVC(probability=True)),\n",
        "]\n",
        "\n",
        "meta_learner = LogisticRegression(max_iter=1000)\n",
        "\n",
        "stack_model = StackingClassifier(\n",
        "    estimators=base_learners,\n",
        "    final_estimator=meta_learner,\n",
        "    cv=5\n",
        ")\n",
        "stack_model.fit(X_train, y_train)\n",
        "y_pred = stack_model.predict(X_test)\n",
        "\n",
        "accuracy = accuracy_score(y_test, y_pred)\n",
        "print(\"Stacking Classifier Accuracy:\", accuracy)"
      ],
      "metadata": {
        "colab": {
          "base_uri": "https://localhost:8080/"
        },
        "id": "PUjy3aac5jKs",
        "outputId": "a654f551-ef7b-47b2-8b15-5106786f6ef9"
      },
      "execution_count": 36,
      "outputs": [
        {
          "output_type": "stream",
          "name": "stdout",
          "text": [
            "Stacking Classifier Accuracy: 1.0\n"
          ]
        }
      ]
    },
    {
      "cell_type": "markdown",
      "source": [
        "37. Train a Random Forest Classifier and print the top 5 most important features"
      ],
      "metadata": {
        "id": "ydjMk8Vb56QY"
      }
    },
    {
      "cell_type": "code",
      "source": [
        "from sklearn.datasets import load_breast_cancer\n",
        "import pandas as pd\n",
        "\n",
        "data = load_breast_cancer()\n",
        "X = data.data\n",
        "y = data.target\n",
        "feature_names = data.feature_names\n",
        "\n",
        "X_train, X_test, y_train, y_test = train_test_split(X, y, test_size=0.2, random_state=42)\n",
        "\n",
        "model = RandomForestClassifier(n_estimators=100, random_state=42)\n",
        "model.fit(X_train, y_train)\n",
        "\n",
        "importances = model.feature_importances_\n",
        "feature_df = pd.DataFrame({\n",
        "    'Feature': feature_names,\n",
        "    'Importance': importances\n",
        "}).sort_values(by='Importance', ascending=False)\n",
        "\n",
        "print(\"Top 5 Important Features:\")\n",
        "print(feature_df.head(5))\n"
      ],
      "metadata": {
        "colab": {
          "base_uri": "https://localhost:8080/"
        },
        "id": "T7GOI69X6jRD",
        "outputId": "d70fc733-b917-4d15-a5d3-091fd233b936"
      },
      "execution_count": 39,
      "outputs": [
        {
          "output_type": "stream",
          "name": "stdout",
          "text": [
            "Top 5 Important Features:\n",
            "                 Feature  Importance\n",
            "23            worst area    0.153892\n",
            "27  worst concave points    0.144663\n",
            "7    mean concave points    0.106210\n",
            "20          worst radius    0.077987\n",
            "6         mean concavity    0.068001\n"
          ]
        }
      ]
    },
    {
      "cell_type": "markdown",
      "source": [
        "38. Train a Bagging Classifier and evaluate performance using Precision, Recall, and F1-score"
      ],
      "metadata": {
        "id": "wB5whTQy6hgS"
      }
    },
    {
      "cell_type": "code",
      "source": [
        "from sklearn.metrics import classification_report\n",
        "data = load_breast_cancer()\n",
        "X = data.data\n",
        "y = data.target\n",
        "\n",
        "X_train, X_test, y_train, y_test = train_test_split(X, y, test_size=0.2, random_state=42)\n",
        "\n",
        "model = BaggingClassifier(\n",
        "    estimator=DecisionTreeClassifier(),\n",
        "    n_estimators=50,\n",
        "    random_state=42\n",
        ")\n",
        "model.fit(X_train, y_train)\n",
        "y_pred = model.predict(X_test)\n",
        "\n",
        "print(classification_report(y_test, y_pred, target_names=data.target_names))"
      ],
      "metadata": {
        "colab": {
          "base_uri": "https://localhost:8080/"
        },
        "id": "X4OapNQh6tXm",
        "outputId": "49990112-d3c5-4a1e-b78f-cb9c5dff1703"
      },
      "execution_count": 41,
      "outputs": [
        {
          "output_type": "stream",
          "name": "stdout",
          "text": [
            "              precision    recall  f1-score   support\n",
            "\n",
            "   malignant       0.95      0.93      0.94        43\n",
            "      benign       0.96      0.97      0.97        71\n",
            "\n",
            "    accuracy                           0.96       114\n",
            "   macro avg       0.96      0.95      0.95       114\n",
            "weighted avg       0.96      0.96      0.96       114\n",
            "\n"
          ]
        }
      ]
    },
    {
      "cell_type": "markdown",
      "source": [
        "39.  Train a Random Forest Classifier and analyze the effect of max_depth on accuracy"
      ],
      "metadata": {
        "id": "T1auOxvn68jk"
      }
    },
    {
      "cell_type": "code",
      "source": [
        "data = load_iris()\n",
        "X = data.data\n",
        "y = data.target\n",
        "\n",
        "X_train, X_test, y_train, y_test = train_test_split(X, y, test_size=0.2, random_state=42)\n",
        "\n",
        "max_depths = [1, 2, 3, 4, 5, 10, 15, None]\n",
        "accuracies = []\n",
        "\n",
        "for depth in max_depths:\n",
        "    model = RandomForestClassifier(max_depth=depth, n_estimators=100, random_state=42)\n",
        "    model.fit(X_train, y_train)\n",
        "    y_pred = model.predict(X_test)\n",
        "    acc = accuracy_score(y_test, y_pred)\n",
        "    accuracies.append(acc)\n",
        "    print(f\"max_depth={depth}: Accuracy = {acc:.4f}\")\n",
        "\n",
        "plt.plot([str(d) for d in max_depths], accuracies, marker='o')\n",
        "plt.xlabel('max_depth')\n",
        "plt.ylabel('Accuracy')\n",
        "plt.title('Effect of max_depth on Random Forest Accuracy')\n",
        "plt.grid(True)\n",
        "plt.show()"
      ],
      "metadata": {
        "colab": {
          "base_uri": "https://localhost:8080/",
          "height": 611
        },
        "id": "ywtJNNav7BNb",
        "outputId": "bde1f205-4f73-4c2e-cdfd-424a20e2fb96"
      },
      "execution_count": 42,
      "outputs": [
        {
          "output_type": "stream",
          "name": "stdout",
          "text": [
            "max_depth=1: Accuracy = 1.0000\n",
            "max_depth=2: Accuracy = 1.0000\n",
            "max_depth=3: Accuracy = 1.0000\n",
            "max_depth=4: Accuracy = 1.0000\n",
            "max_depth=5: Accuracy = 1.0000\n",
            "max_depth=10: Accuracy = 1.0000\n",
            "max_depth=15: Accuracy = 1.0000\n",
            "max_depth=None: Accuracy = 1.0000\n"
          ]
        },
        {
          "output_type": "display_data",
          "data": {
            "text/plain": [
              "<Figure size 640x480 with 1 Axes>"
            ],
            "image/png": "[encoded data removed]"
          },
          "metadata": {}
        }
      ]
    },
    {
      "cell_type": "markdown",
      "source": [
        "40. Train a Bagging Regressor using different base estimators (DecisionTree and KNeighbors) and compare\n",
        "performance"
      ],
      "metadata": {
        "id": "vnYc4IKw7IWr"
      }
    },
    {
      "cell_type": "code",
      "source": [
        "from sklearn.neighbors import KNeighborsRegressor\n",
        "X, y = make_regression(n_samples=1000, n_features=10, noise=15, random_state=42)\n",
        "X_train, X_test, y_train, y_test = train_test_split(X, y, test_size=0.2, random_state=42)\n",
        "\n",
        "estimators = {\n",
        "    \"Decision Tree\": DecisionTreeRegressor(),\n",
        "    \"K-Neighbors\": KNeighborsRegressor()\n",
        "}\n",
        "\n",
        "for name, base_estimator in estimators.items():\n",
        "    model = BaggingRegressor(\n",
        "        estimator=base_estimator,\n",
        "        n_estimators=50,\n",
        "        random_state=42\n",
        "    )\n",
        "    model.fit(X_train, y_train)\n",
        "    y_pred = model.predict(X_test)\n",
        "    mse = mean_squared_error(y_test, y_pred)\n",
        "    print(f\"{name} as base estimator -> MSE: {mse:.2f}\")"
      ],
      "metadata": {
        "colab": {
          "base_uri": "https://localhost:8080/"
        },
        "id": "kizQVGZT7NDt",
        "outputId": "d23e0e07-4384-497d-8a78-72ce8296ce9c"
      },
      "execution_count": 43,
      "outputs": [
        {
          "output_type": "stream",
          "name": "stdout",
          "text": [
            "Decision Tree as base estimator -> MSE: 2947.32\n",
            "K-Neighbors as base estimator -> MSE: 3613.54\n"
          ]
        }
      ]
    },
    {
      "cell_type": "markdown",
      "source": [
        "41. Train a Random Forest Classifier and evaluate its performance using ROC-AUC Score"
      ],
      "metadata": {
        "id": "Ajvdfzoj7bNL"
      }
    },
    {
      "cell_type": "code",
      "source": [
        "data = load_breast_cancer()\n",
        "X = data.data\n",
        "y = data.target\n",
        "\n",
        "X_train, X_test, y_train, y_test = train_test_split(X, y, test_size=0.2, random_state=42)\n",
        "\n",
        "model = RandomForestClassifier(n_estimators=100, random_state=42)\n",
        "model.fit(X_train, y_train)\n",
        "\n",
        "y_proba = model.predict_proba(X_test)[:, 1]\n",
        "auc_score = roc_auc_score(y_test, y_proba)\n",
        "\n",
        "print(\"ROC-AUC Score:\", auc_score)"
      ],
      "metadata": {
        "colab": {
          "base_uri": "https://localhost:8080/"
        },
        "id": "x9I2u9ov7fIX",
        "outputId": "57f476da-6d5a-4d45-da06-96d55799967e"
      },
      "execution_count": 44,
      "outputs": [
        {
          "output_type": "stream",
          "name": "stdout",
          "text": [
            "ROC-AUC Score: 0.9952505732066819\n"
          ]
        }
      ]
    },
    {
      "cell_type": "markdown",
      "source": [
        "42. Train a Bagging Classifier and evaluate its performance using cross-validation.\n"
      ],
      "metadata": {
        "id": "GiQ9dQe97oXz"
      }
    },
    {
      "cell_type": "code",
      "source": [
        "from sklearn.model_selection import cross_val_score\n",
        "\n",
        "data = load_iris()\n",
        "X = data.data\n",
        "y = data.target\n",
        "\n",
        "bagging_model = BaggingClassifier(\n",
        "    estimator=DecisionTreeClassifier(),\n",
        "    n_estimators=50,\n",
        "    random_state=42\n",
        ")\n",
        "\n",
        "scores = cross_val_score(bagging_model, X, y, cv=5, scoring='accuracy', n_jobs=-1)\n",
        "print(f\"Cross-validation accuracies: {scores}\")\n",
        "print(f\"Mean accuracy: {scores.mean():.4f}\")"
      ],
      "metadata": {
        "colab": {
          "base_uri": "https://localhost:8080/"
        },
        "id": "vldF-oFC7rtd",
        "outputId": "47c3a3b7-5271-4bd5-a4c8-568ddd88c605"
      },
      "execution_count": 45,
      "outputs": [
        {
          "output_type": "stream",
          "name": "stdout",
          "text": [
            "Cross-validation accuracies: [0.96666667 0.96666667 0.93333333 0.96666667 1.        ]\n",
            "Mean accuracy: 0.9667\n"
          ]
        }
      ]
    },
    {
      "cell_type": "markdown",
      "source": [
        "43. Train a Random Forest Classifier and plot the Precision-Recall curve"
      ],
      "metadata": {
        "id": "81Kq2dfD72_L"
      }
    },
    {
      "cell_type": "code",
      "source": [
        "from sklearn.metrics import precision_recall_curve, PrecisionRecallDisplay\n",
        "\n",
        "data = load_breast_cancer()\n",
        "X = data.data\n",
        "y = data.target\n",
        "\n",
        "X_train, X_test, y_train, y_test = train_test_split(X, y, test_size=0.2, random_state=42)\n",
        "\n",
        "model = RandomForestClassifier(n_estimators=100, random_state=42)\n",
        "model.fit(X_train, y_train)\n",
        "\n",
        "y_scores = model.predict_proba(X_test)[:, 1]\n",
        "\n",
        "precision, recall, _ = precision_recall_curve(y_test, y_scores)\n",
        "\n",
        "disp = PrecisionRecallDisplay(precision=precision, recall=recall)\n",
        "disp.plot()\n",
        "plt.title(\"Precision-Recall Curve - Random Forest\")\n",
        "plt.show()"
      ],
      "metadata": {
        "colab": {
          "base_uri": "https://localhost:8080/",
          "height": 472
        },
        "id": "E_4MQhfl70uo",
        "outputId": "90a00791-5475-44f1-98d5-ef331383dadf"
      },
      "execution_count": 46,
      "outputs": [
        {
          "output_type": "display_data",
          "data": {
            "text/plain": [
              "<Figure size 640x480 with 1 Axes>"
            ],
            "image/png": "[encoded data removed]"
          },
          "metadata": {}
        }
      ]
    },
    {
      "cell_type": "markdown",
      "source": [
        "44. Train a Stacking Classifier with Random Forest and Logistic Regression and compare accuracy"
      ],
      "metadata": {
        "id": "9iAeMAym8OpW"
      }
    },
    {
      "cell_type": "code",
      "source": [
        "from sklearn.ensemble import  StackingClassifier\n",
        "data = load_iris()\n",
        "X = data.data\n",
        "y = data.target\n",
        "\n",
        "X_train, X_test, y_train, y_test = train_test_split(X, y, test_size=0.2, random_state=42)\n",
        "\n",
        "rf = RandomForestClassifier(n_estimators=100, random_state=42)\n",
        "lr = LogisticRegression(max_iter=1000)\n",
        "\n",
        "stack_model = StackingClassifier(\n",
        "    estimators=[('rf', rf), ('lr', lr)],\n",
        "    final_estimator=LogisticRegression(max_iter=1000),\n",
        "    cv=5\n",
        ")\n",
        "\n",
        "rf.fit(X_train, y_train)\n",
        "lr.fit(X_train, y_train)\n",
        "\n",
        "stack_model.fit(X_train, y_train)\n",
        "\n",
        "y_pred_rf = rf.predict(X_test)\n",
        "y_pred_lr = lr.predict(X_test)\n",
        "y_pred_stack = stack_model.predict(X_test)\n",
        "\n",
        "acc_rf = accuracy_score(y_test, y_pred_rf)\n",
        "acc_lr = accuracy_score(y_test, y_pred_lr)\n",
        "acc_stack = accuracy_score(y_test, y_pred_stack)\n",
        "\n",
        "print(f\"Random Forest Accuracy       : {acc_rf:.4f}\")\n",
        "print(f\"Logistic Regression Accuracy : {acc_lr:.4f}\")\n",
        "print(f\"Stacking Classifier Accuracy : {acc_stack:.4f}\")"
      ],
      "metadata": {
        "colab": {
          "base_uri": "https://localhost:8080/"
        },
        "id": "xa3NCpGH8RdW",
        "outputId": "18dfa003-8e91-42e7-f7eb-18202c381df5"
      },
      "execution_count": 47,
      "outputs": [
        {
          "output_type": "stream",
          "name": "stdout",
          "text": [
            "Random Forest Accuracy       : 1.0000\n",
            "Logistic Regression Accuracy : 1.0000\n",
            "Stacking Classifier Accuracy : 1.0000\n"
          ]
        }
      ]
    },
    {
      "cell_type": "markdown",
      "source": [
        "45. Train a Bagging Regressor with different levels of bootstrap samples and compare performance"
      ],
      "metadata": {
        "id": "RJ__S8P88kDM"
      }
    },
    {
      "cell_type": "code",
      "source": [
        "\n",
        "X, y = make_regression(n_samples=1000, n_features=10, noise=15, random_state=42)\n",
        "X_train, X_test, y_train, y_test = train_test_split(X, y, test_size=0.2, random_state=42)\n",
        "\n",
        "sample_sizes = [0.3, 0.5, 0.7, 1.0]\n",
        "for sample_frac in sample_sizes:\n",
        "    model = BaggingRegressor(\n",
        "        estimator=DecisionTreeRegressor(),\n",
        "        n_estimators=50,\n",
        "        max_samples=sample_frac,\n",
        "        random_state=42\n",
        "    )\n",
        "    model.fit(X_train, y_train)\n",
        "    y_pred = model.predict(X_test)\n",
        "    mse = mean_squared_error(y_test, y_pred)\n",
        "    print(f\"max_samples={sample_frac}: MSE = {mse:.2f}\")"
      ],
      "metadata": {
        "colab": {
          "base_uri": "https://localhost:8080/"
        },
        "id": "nccZ5z1S8pEj",
        "outputId": "a5386773-7bfa-4bd9-acd9-6e41e030f87d"
      },
      "execution_count": 48,
      "outputs": [
        {
          "output_type": "stream",
          "name": "stdout",
          "text": [
            "max_samples=0.3: MSE = 3115.06\n",
            "max_samples=0.5: MSE = 2834.04\n",
            "max_samples=0.7: MSE = 2930.35\n",
            "max_samples=1.0: MSE = 2947.32\n"
          ]
        }
      ]
    }
  ]
}